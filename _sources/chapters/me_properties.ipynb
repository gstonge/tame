{
 "cells": [
  {
   "cell_type": "markdown",
   "id": "9bf28329-24f4-4d24-a5b8-cb997a652160",
   "metadata": {},
   "source": [
    "# Master equations\n",
    "\n",
    "In this tutorial, we hope to track the evolution of the probability of finding a system in any of its available discrete states.\n",
    "As complex systems are often composed of ensemble of agents or parts, this tool will prove to be a powerful way of tracking their dynamics.\n",
    "It allows you to follow the distribution of possible compositions of the system over time, rather than simply following the average behavior of the system as is common in traditional mean-field approaches.\n",
    "[Predator-prey dynamics](https://en.wikipedia.org/wiki/Lotka%E2%80%93Volterra_equations), [birth–death processes](https://en.wikipedia.org/wiki/Birth%E2%80%93death_process), and [disease models](https://en.wikipedia.org/wiki/Compartmental_models_in_epidemiology) on networks are only a few of the many applications unlocked by the tools covered in this tutorial."
   ]
  },
  {
   "cell_type": "markdown",
   "id": "4b56a75f-17a6-4e40-8b98-fed152f39048",
   "metadata": {},
   "source": [
    "A random discrete variable is completly described by its probability distribution $\\lbrace P_n\\rbrace_{n = 0}^\\infty$ over its set of possible states $n$. If that random discrete variable describes the behavior of a complex systems of interest, any tool that allows us to track its distribution through time $\\lbrace P_n(t)\\rbrace_{n = 0}^\\infty$ will prove invaluable. This is the objective of **master equations**. These are sets of differential equations describing the flows of probabilities associated with any state transitions of a system. As such, these are dynamical systems that respect basic properties of probabilities distributions"
   ]
  },
  {
   "cell_type": "markdown",
   "id": "888c867d-3bdd-4a5a-80a5-844f31ee675d",
   "metadata": {},
   "source": [
    "$$\n",
    "\\begin{align}\n",
    "& \\textrm{normalization:}\\quad P_n(t) \\in  (0,1) \\;\\forall \\in \\mathcal{N} \\\\\n",
    "& \\textrm{conservation:}\\quad \\sum_{n \\in \\mathcal{N}} P_n(t) = 1 \\;\\forall t \\rightarrow \\sum_{n \\in \\mathcal{N}} \\frac{d}{dt}P_n(t) = 0\n",
    "\\end{align}\n",
    "$$"
   ]
  },
  {
   "cell_type": "markdown",
   "id": "48a29e4c-d740-4813-ae69-ceb56ddcbf2a",
   "metadata": {},
   "source": [
    "In this system of differential equations, every $dP_n(t)/dt$ captures all flows of probability density in and out of a given state $P_n(t)$ in exchange with all other states $m\\neq n$. To make these flows more explicit, one can think of $dP_n(t)/dt$ as the sum of **probability currents** $J_{n,m}$ between pairs of states. These currents can be broken down into their flows in both directions and summed up to create master equations, like so:"
   ]
  },
  {
   "cell_type": "markdown",
   "id": "b547706a",
   "metadata": {},
   "source": [
    "$$\n",
    "\\begin{align}\n",
    "\\frac{d}{dt}P_n(t) =& \\sum _{m\\neq n} J_{n\\rightarrow m}(t)+J_{m\\rightarrow n}(t) \\\\\n",
    "=& \\sum _{m\\neq n} J_{n,m}(t) = J_n(t)\n",
    "\\end{align}\n",
    "$$"
   ]
  },
  {
   "cell_type": "markdown",
   "id": "6ac894e0",
   "metadata": {},
   "source": [
    "You can visualize the system around a given state a bit like you would a regular compartmental model, but here compartments refer to states of the entire system."
   ]
  },
  {
   "cell_type": "markdown",
   "id": "4a1902c0-2ef1-45bf-9b4b-d5d44b76c314",
   "metadata": {},
   "source": [
    "![me_schematic](assets/png/schematic.png)"
   ]
  },
  {
   "cell_type": "markdown",
   "id": "cf20c963-8b84-4a21-8122-8294bd08d2a8",
   "metadata": {},
   "source": [
    "The boxes here correspond to the states the system can take, and the probability density $P_n(t)$ for state $n$ is called an **occupation number**. It might be useful to imagine that we are modeling an infinite amount of equivalent but independent systems, and asking in what fraction $P_n(t)$ of this infinite multiverse can I find the system in a given state $n$ at time $t$.\n",
    "\n",
    "This schematic shares a lot with classic compartmental models, but these approaches differ conceptually in one important way. Compartmental models often separate systems into their different types of parts and put those parts in boxes. Master equations separate a multiverse of systems into their different states and put systems in boxes. While we cannot reconstruct a system exactly from a compartmental models because of correlations between parts, master equations do not have that problem since they track the exact state of a system. To do so, master equations require a lot more equations than most compartmental models.\n",
    "\n",
    "To model any system with master equations, we must therefore answer the following questions. What is the set of discrete states available to the system? What are the possible transitions between states? At what rates do these transitions occur?"
   ]
  },
  {
   "cell_type": "markdown",
   "id": "7fc12944-bfce-4507-a227-049d79e7de49",
   "metadata": {},
   "source": [
    "## A simple example: Birth-death process"
   ]
  },
  {
   "cell_type": "markdown",
   "id": "dc74a209-43bc-4c77-916d-6010b67ea5fb",
   "metadata": {},
   "source": [
    "Imagine that we care about the exact amount of some particles that are created at a constant rate $\\mu$ out of a reservoir but can disappear at another constant rate $\\nu$. This process is straightforward to model in terms of the average number of active particles at any given time, but almost useless. What if we care about how often particle go extinct? Or how often they reach some critical number of particles? To answer these questions, we need master equations."
   ]
  },
  {
   "cell_type": "markdown",
   "id": "f40369c7",
   "metadata": {},
   "source": [
    "*What is the set of discrete states available to the system?* The system consists of a discrete number $n$ of active particles which can take any value from 0 to infinity.\n",
    "\n",
    "*What are the possible transitions between states?* The system will go from state $n$ to state $n+1$ when a new particle is created, and from state $n>0$ to state $n-1$ when a particle disappears.\n",
    "\n",
    "*At what rates do these transitions occur?* $J_{n\\rightarrow n+1} = \\mu$ and $J_{n>0\\rightarrow n-1} = n\\nu$. All other transitions are impossible (null current equal to zero).\n",
    "\n",
    "The master equations are therefore, for any number of particles (i.e., system state) $n$ $\\in \\lbrace 0,1,2,\\ldots\\rbrace$"
   ]
  },
  {
   "cell_type": "markdown",
   "id": "0b70c172",
   "metadata": {},
   "source": [
    "$$\n",
    "\\begin{align}\n",
    "\\frac{d}{dt}P_n(t) &= -\\mu P_n(t) + (n+1)\\nu P_{n+1}(t) \\quad \\textrm{for n=0}\\\\\n",
    "\\frac{d}{dt}P_n(t) &= -(\\mu + n\\nu)P_n(t) + (n+1)\\nu P_{n+1}(t) + \\mu P_{n-1}(t) \\quad \\textrm{for n>0}\\\\\n",
    "\\end{align}\n",
    "$$"
   ]
  },
  {
   "cell_type": "markdown",
   "id": "726060df",
   "metadata": {},
   "source": [
    "There are a few standard ways of solving these equations and we will cover the two main approaches. First, we can computationally integrate the system of differential equations to track the distribution of states over time. This always works and is therefore the most common approach in research. For some systems however, a second approach can be used to get a more explicit solution: we can attempt to solve the system by finding a probability generating function describing the probability distribution $\\lbrace P_n \\rbrace$. We will cover both in what comes next!"
   ]
  }
 ],
 "metadata": {
  "kernelspec": {
   "display_name": "Python 3 (ipykernel)",
   "language": "python",
   "name": "python3"
  },
  "language_info": {
   "codemirror_mode": {
    "name": "ipython",
    "version": 3
   },
   "file_extension": ".py",
   "mimetype": "text/x-python",
   "name": "python",
   "nbconvert_exporter": "python",
   "pygments_lexer": "ipython3",
   "version": "3.9.12"
  }
 },
 "nbformat": 4,
 "nbformat_minor": 5
}
