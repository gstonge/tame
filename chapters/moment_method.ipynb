{
 "cells": [
  {
   "cell_type": "markdown",
   "id": "a9815087-958b-493c-8a7c-7e4ed6a2a1e7",
   "metadata": {},
   "source": [
    "# Method of Moments"
   ]
  },
  {
   "cell_type": "markdown",
   "id": "df48d4be-2dd6-457d-9576-be5ad25110f7",
   "metadata": {},
   "source": [
    "Master equations are simply system of differential equations, but they can become prohibitively large since they track the exact state of a system. Think for example of a mixture of chemicals where the number of molecules of a given compound can vary by $10^{23}$ orders of magnitude or more. Writing a differential equation for the occupation number of each state is easy, but impossible to implement and use. \n",
    "\n",
    "Ultimately, the goal of master equations is to track the distribution of possible states. When the support of that distribution becomes too large, we might just want to capture features of that distribution rather than its exact value on every state. This is the goal of the **method of moments** (MoM), an approach which generates mean-field models tracking the evolution of the moments of the state distribution rather than every exact occupation number.\n",
    "\n",
    "Consider the following relationship between occupation numbers $\\lbrace P_n(t) \\rbrace$ at time $t$ and the average state $\\langle n(t) \\rangle$ typically tracked by mean-field models:"
   ]
  },
  {
   "cell_type": "markdown",
   "id": "9043b768",
   "metadata": {},
   "source": [
    "$$\n",
    "\\sum_n n\\frac{d}{dt} P_n(t) = \\frac{d}{dt}\\sum_n n P_n(t) = \\frac{d}{dt}\\langle n(t) \\rangle\n",
    "$$"
   ]
  },
  {
   "cell_type": "markdown",
   "id": "8362c64e",
   "metadata": {},
   "source": [
    "The left hand side is a simple sum over $n$ of the product of $n$ with the master equation described in previous section. Through the middle transformation however, we realize how this simple sum produces a single differential equation tracking the dynamics of the average state of the system over time, $\\langle n(t) \\rangle$.\n",
    "\n",
    "This approach generalizes like so."
   ]
  },
  {
   "cell_type": "markdown",
   "id": "09cfaf20",
   "metadata": {},
   "source": [
    "$$\n",
    "\\sum_n n^k\\frac{d}{dt} P_n(t) = \\frac{d}{dt}\\sum_n n^k P_n(t) = \\frac{d}{dt}\\langle n^k(t) \\rangle\n",
    "$$"
   ]
  },
  {
   "cell_type": "markdown",
   "id": "08730c41",
   "metadata": {},
   "source": [
    "And we therefore have a simple tool (a sum of master equations) which lets us generate mean-field models for the different moments of the state distribution! This is infinitely useful when the master equation of the system is simple but defined over too many states to be numerically tractable. "
   ]
  },
  {
   "cell_type": "markdown",
   "id": "21e6276a",
   "metadata": {},
   "source": [
    "## MoM of the average birth-death process"
   ]
  },
  {
   "cell_type": "markdown",
   "id": "ec9eed33",
   "metadata": {},
   "source": [
    "Consider the [birth–death process](https://en.wikipedia.org/wiki/Birth%E2%80%93death_process) with a fixed constant birth rate $\\mu$ for particles and a fixed death rate $\\nu$ for all active particles. For this process, our master equation is"
   ]
  },
  {
   "cell_type": "markdown",
   "id": "3103f7b4",
   "metadata": {},
   "source": [
    "$$\n",
    "\\frac{d}{dt}P_n(t) = -(\\mu + n\\nu)P_n(t) + (n+1)\\nu P_{n+1}(t) + \\mu P_{n-1}(t)\n",
    "$$"
   ]
  },
  {
   "cell_type": "markdown",
   "id": "414fc1c6",
   "metadata": {},
   "source": [
    "where $P_{n<0}(t) = 0$ for all times. We can apply the MoM to extract a differential equation for $\\langle n(t) \\rangle$:"
   ]
  },
  {
   "cell_type": "markdown",
   "id": "0d387f03",
   "metadata": {},
   "source": [
    "$$\n",
    "\\frac{d}{dt} \\langle n(t) \\rangle = \\sum_n n \\frac{d}{dt}P_n(t) = \\sum_n -n\\mu P_n(t) - n^2\\nu P_n(t) + n(n+1)\\nu P_{n+1}(t) + n \\mu P_{n-1}(t)\n",
    "$$"
   ]
  },
  {
   "cell_type": "markdown",
   "id": "dafbbea6",
   "metadata": {},
   "source": [
    "The goal is then to apply the sums to simplify the expression. A useful way to first look at these problems is through brute force, finding that for $n=0$ the four terms above are all zero, then $-\\mu P_1(t) -\\nu P_1(t) + 2\\nu P_2(t) +_ \\mu P_0(t)$ for $n=1$ and so on. We can eventually notice that the terms in $\\mu$ can be summed explicitly and that the two terms in $\\nu$ can be combined. We then find"
   ]
  },
  {
   "cell_type": "markdown",
   "id": "7e405f6d",
   "metadata": {},
   "source": [
    "$$\n",
    "\\frac{d}{dt} \\langle n(t) \\rangle = -\\mu \\langle n(t) \\rangle -\\nu \\langle n(t) \\rangle + \\mu(\\langle n(t) \\rangle+1) = \\mu - \\nu\\langle n(t) \\rangle\n",
    "$$"
   ]
  },
  {
   "cell_type": "markdown",
   "id": "383637ad",
   "metadata": {},
   "source": [
    "What incredible magic! The MoM has produced the exact coarse-grained mean-field equation we would have written down from a simple compartmental approach tracking the average number of particles in the system! The compartment $n(t)$ has a linear input at rate $\\mu$, and a proportional output of particles at rate $\\nu n(t)$.\n",
    "\n",
    "Starting in the inactive state, $P_0(0) = 1$ and $\\langle n(t) \\rangle = 0$, this differential equation for $\\langle n(t) \\rangle$ yields $\\langle n(t) \\rangle = \\frac{\\mu}{\\nu} \\left(1 - e^{-\\nu t}\\right)$."
   ]
  },
  {
   "cell_type": "markdown",
   "id": "78a397c6",
   "metadata": {},
   "source": [
    "## MoM for a birth-death variance"
   ]
  },
  {
   "cell_type": "markdown",
   "id": "69ccf88c",
   "metadata": {},
   "source": [
    "We apply the MoM to obtain a differential equation for the dynamics of the second moment of the birth-death process over time:"
   ]
  },
  {
   "cell_type": "markdown",
   "id": "62271f38",
   "metadata": {},
   "source": [
    "$$\n",
    "\\frac{d}{dt} \\langle n^2(t) \\rangle = \\sum_n n^2 \\frac{d}{dt}P_n(t) = \\sum_n -n^2\\mu P_n(t) - n^3\\nu P_n(t) + n^2(n+1)\\nu P_{n+1}(t) + n^2 \\mu P_{n-1}(t)\n",
    "$$"
   ]
  },
  {
   "cell_type": "markdown",
   "id": "94db5aa0",
   "metadata": {},
   "source": [
    "Doing the sums explicitly (fun exercise!) we get"
   ]
  },
  {
   "cell_type": "markdown",
   "id": "8b18bb73",
   "metadata": {},
   "source": [
    "$$\n",
    "\\frac{d}{dt} \\langle n^2(t) \\rangle = \\mu(2\\langle n(t) \\rangle+1)+ \\nu (\\langle n(t) \\rangle - 2\\langle n^2(t)\\rangle)\n",
    "$$"
   ]
  },
  {
   "cell_type": "markdown",
   "id": "803622ef",
   "metadata": {},
   "source": [
    "This equation can be paired with the previous one to give us a 2-dimensional system tracking the average ($\\langle n(t) \\rangle$) and variance ($\\langle n^2(t) \\rangle - \\langle n(t) \\rangle^2$) through time. Powerful stuff!"
   ]
  },
  {
   "cell_type": "markdown",
   "id": "ab5713c3",
   "metadata": {},
   "source": [
    ":::{seealso}\n",
    "In general, there is no guarantee that the method of moments will produce differential equations that do not depend on higher moments. For example, what if a term in $n^3$ remained in the last equation? Of course, we could then use the same method to generate a differential equation for $\\langle n^3(t)\\rangle$ and gain precision. But what if that one then depends on $n^4$? This is where [moment closure](https://en.wikipedia.org/wiki/Moment_closure) comes in to save the day! In those cases, we can make some assumptions about the shape of the state distributions and estimate the unknown higher moments, like $\\langle n^3(t)\\rangle$, in terms of known lower moments, $\\langle n(t)\\rangle$ and $\\langle n^2(t)\\rangle$. Assuming the right distribution and getting a good approximation for the moment closure is an art. It is always interesting to play around with different approximation in cases where we can compare with numerical integrations (for example using a smaller system).\n",
    ":::"
   ]
  },
  {
   "cell_type": "markdown",
   "id": "8a898ad1",
   "metadata": {},
   "source": [
    "## Comparison with numerical integration"
   ]
  },
  {
   "cell_type": "code",
   "execution_count": 2,
   "id": "bd297a1b",
   "metadata": {},
   "outputs": [
    {
     "name": "stderr",
     "output_type": "stream",
     "text": [
      "/var/folders/qs/h2k9jxts0n34jj1zq8z7dvtw0000gn/T/ipykernel_56387/800385317.py:3: MatplotlibDeprecationWarning: The seaborn styles shipped by Matplotlib are deprecated since 3.6, as they no longer correspond to the styles shipped by seaborn. However, they will remain available as 'seaborn-v0_8-<style>'. Alternatively, directly use the seaborn API instead.\n",
      "  plt.style.use(['ggplot', 'seaborn-talk'])\n"
     ]
    },
    {
     "data": {
      "image/png": "[encoded data removed]",
      "text/plain": [
       "<Figure size 432x288 with 1 Axes>"
      ]
     },
     "metadata": {
      "needs_background": "light"
     },
     "output_type": "display_data"
    }
   ],
   "source": [
    "import numpy as np\n",
    "import matplotlib.pyplot as plt\n",
    "plt.style.use(['ggplot', 'seaborn-talk'])\n",
    "\n",
    "# We will use the odeint routine\n",
    "from scipy.integrate import odeint\n",
    "\n",
    "# Master Equations\n",
    "def J(x, t, mu, nu):    \n",
    "    dx = 0*x\n",
    "    for n in range(len(x)):\n",
    "        if n==0: #for first state\n",
    "            dx[0] = - mu*x[0] + nu*x[1]\n",
    "        elif n==len(x)-1: #for last state\n",
    "            dx[n] = -(nu*n)*x[n] + mu*x[n-1]\n",
    "        else: #all other states\n",
    "            dx[n] = -(mu+nu*n)*x[n] + nu*(n+1)*x[n+1] + mu*x[n-1]\n",
    "\n",
    "    return dx\n",
    "\n",
    "#MoM\n",
    "def MOM(x, t, mu, nu):     \n",
    "    dx = 0*x\n",
    "    dx[0] = mu - nu*x[0]\n",
    "    dx[1] = mu*(2*x[0]+1) + nu*(x[0]-2*x[1])\n",
    "    return dx\n",
    "\n",
    "# Time of observations\n",
    "t_length = 200\n",
    "t_steps = 10\n",
    "t_vec = np.linspace(0, t_length, t_steps)\n",
    "\n",
    "# Initial conditions\n",
    "nb_of_states = 20\n",
    "x_0 = np.zeros(nb_of_states)\n",
    "x_0[0] = 1\n",
    "m_0 = np.zeros(2)\n",
    "\n",
    "# Parameters\n",
    "mu = 0.3\n",
    "nu = 0.1\n",
    "\n",
    "# Numerical integration\n",
    "G = lambda x, t: J(x, t, mu, nu)\n",
    "M = lambda m, t: MOM(m, t, mu, nu)\n",
    "x_path = odeint(G, x_0, t_vec)\n",
    "m_path = odeint(M, m_0, t_vec)\n",
    "\n",
    "stddev = np.sqrt(m_path[-1][1]-m_path[-1][0]**2)\n",
    "\n",
    "# Plot\n",
    "plt.vlines(m_path[-1][0], 0, 0.3, colors='black', linestyles='-', label='First moment')\n",
    "plt.vlines(m_path[-1][0]+stddev, 0, 0.3, colors='gray', linestyles='--', label='Average')\n",
    "plt.vlines(m_path[-1][0]-stddev, 0, 0.3, colors='gray', linestyles='--', label='Standard deviation')\n",
    "plt.plot(range(nb_of_states),x_path[-1], marker=\"o\", lw=0, ms=15, label=fr\"$t = {t_vec[-1]}$\")\n",
    "plt.legend()\n",
    "plt.ylabel('Occupation number')\n",
    "plt.xlabel('Number of particles')\n",
    "plt.show()"
   ]
  },
  {
   "cell_type": "markdown",
   "id": "911d9aab",
   "metadata": {},
   "source": [
    "We can also compare the moments directly to the moments of the integrated state distribution to validate the Method of Moments. Make no mistake: Without moment closures, the method of moments is not an approximation but an exact coarse-graining of master equations into a simpler system tracking the moments of the occupation number."
   ]
  },
  {
   "cell_type": "code",
   "execution_count": 28,
   "id": "79538952",
   "metadata": {},
   "outputs": [
    {
     "data": {
      "image/png": "[encoded data removed]",
      "text/plain": [
       "<Figure size 432x288 with 1 Axes>"
      ]
     },
     "metadata": {
      "needs_background": "light"
     },
     "output_type": "display_data"
    }
   ],
   "source": [
    "# Plot\n",
    "for t in range(t_steps-1):\n",
    "    plt.plot(t_vec[t],m_path[t][0], marker=\"o\", color='orange', markersize = 15)\n",
    "    plt.plot(t_vec[t],m_path[t][1], marker=\"o\", color='purple', markersize = 12)\n",
    "    plt.plot(t_vec[t],np.sum(np.arange(0,nb_of_states)*x_path[t]), marker=\"o\", color='gray')\n",
    "    plt.plot(t_vec[t],np.sum(np.arange(0,nb_of_states)*np.arange(0,nb_of_states)*x_path[t]), marker=\"o\", markersize = 6, color='k')\n",
    "# Last points and labels    \n",
    "plt.plot(t_vec[-1],m_path[-1][1], marker=\"o\", color='purple', markersize = 12, label=r'Method of moment, $\\langle n^2 \\rangle$')\n",
    "plt.plot(t_vec[-1],m_path[-1][0], marker=\"o\", color='orange', markersize = 15, label=r'Method of moment, $\\langle n \\rangle$')\n",
    "plt.plot(t_vec[-1],np.sum(np.arange(0,nb_of_states)*x_path[-1]), marker=\"o\", color='gray',label=r'Integration, $\\langle n \\rangle$')\n",
    "plt.plot(t_vec[-1],np.sum(np.arange(0,nb_of_states)*np.arange(0,nb_of_states)*x_path[-1]), marker=\"o\", markersize = 6, color='k',label=r'Integration, $\\langle n^2 \\rangle$')\n",
    "plt.legend(bbox_to_anchor=[0.9, 0.85])\n",
    "plt.ylabel('Moments')\n",
    "plt.xlabel('Time')\n",
    "plt.show()"
   ]
  },
  {
   "cell_type": "markdown",
   "id": "e52403c9",
   "metadata": {},
   "source": [
    "## MoM for multi-dimensional systems"
   ]
  },
  {
   "cell_type": "markdown",
   "id": "9a38ca96",
   "metadata": {},
   "source": [
    "[Predator-prey dynamics with Lotka-Volterra equations](https://en.wikipedia.org/wiki/Lotka%E2%80%93Volterra_equations) are one of the most common model of complex systems in more than two dimensions. Here, we will assume (1) that prey (fish) reproduce exponentially based on a rate $\\alpha$; (2) that any predator can come into contact and eat any prey at a given rate $\\beta$ allowing them to reproduce; and (3) that predator die of old age at a rate $\\gamma$. Following our usual recipe, one can construct the following master equation."
   ]
  },
  {
   "cell_type": "markdown",
   "id": "df6f07f0",
   "metadata": {},
   "source": [
    "$$\n",
    "\\begin{align}\n",
    "\\frac{d}{dt}P_{n_1,n_2}(t) &= -\\alpha n_1P_{n_1,n_2}(t) - \\gamma n_2 P_{n_1,n_2}(t) - \\beta n_1 n_2 P_{n_1,n_2}(t) \\\\\n",
    "& + \\alpha (n_1-1)P_{n_1-1,n_2}(t) + \\gamma (n_2+1) P_{n_1,n_2+2}(t) + \\beta (n_1+1)(n_2-1) P_{n_1+1,n_2-1}(t)\n",
    "\\end{align}\n",
    "$$"
   ]
  },
  {
   "cell_type": "markdown",
   "id": "663adc52",
   "metadata": {},
   "source": [
    "Fun model! But without a clear carrying capacity for the environment, this dynamical system can easily produce very large populations of predators and prey. Even just allowing them both to vary between extinction and 1000, yield $1000 \\times 1000 = 1,000,000$ states to track. MoM to the rescue!\n",
    "\n",
    "In two dimensions, the method of moments generalizes in the following way. The first moments (note the plural) are tracked like so."
   ]
  },
  {
   "cell_type": "markdown",
   "id": "84d94b64",
   "metadata": {},
   "source": [
    "$$\n",
    "\\begin{align}\n",
    "\\sum_{n_1} \\sum_{n_2} n_1\\frac{d}{dt} P_{n_1,n_2}(t) & = \\frac{d}{dt}\\langle n_1(t) \\rangle \\\\\n",
    "\\sum_{n_1} \\sum_{n_2} n_2\\frac{d}{dt} P_{n_1,n_2}(t) & = \\frac{d}{dt}\\langle n_2(t) \\rangle\n",
    "\\end{align}\n",
    "$$"
   ]
  },
  {
   "cell_type": "markdown",
   "id": "b3c485fe",
   "metadata": {},
   "source": [
    "While higher moments need to consider all possible combinations of variables:"
   ]
  },
  {
   "cell_type": "markdown",
   "id": "a3e9400d",
   "metadata": {},
   "source": [
    "$$\n",
    "\\begin{align}\n",
    "\\sum_{n_1} \\sum_{n_2} n_1^2\\frac{d}{dt} P_{n_1,n_2}(t) & = \\frac{d}{dt}\\langle n_1^2(t) \\rangle \\\\\n",
    "\\sum_{n_1} \\sum_{n_2} n_1n_2\\frac{d}{dt} P_{n_1,n_2}(t) & = \\frac{d}{dt}\\langle n_1n_2(t) \\rangle \\\\\n",
    "\\sum_{n_1} \\sum_{n_2} n_2^2\\frac{d}{dt} P_{n_1,n_2}(t) & = \\frac{d}{dt}\\langle n_2^2(t) \\rangle\n",
    "\\end{align}\n",
    "$$"
   ]
  },
  {
   "cell_type": "markdown",
   "id": "034edcf1",
   "metadata": {},
   "source": [
    "Following the method as above, we can coarse-grain the Lotka-Volterra master equation to the following first-order moments:"
   ]
  },
  {
   "cell_type": "markdown",
   "id": "2172265c",
   "metadata": {},
   "source": [
    "$$\n",
    "\\begin{align}\n",
    "\\frac{d}{dt}\\langle n_1(t) \\rangle & = \\alpha \\langle n_1(t) \\rangle - \\beta \\langle n_1(t) n_2(t)\\rangle \\\\\n",
    "\\frac{d}{dt}\\langle n_2(t) \\rangle & = \\beta \\langle n_1(t) n_2(t)\\rangle - \\gamma \\beta \\langle n_2(t)\\rangle\n",
    "\\end{align}\n",
    "$$"
   ]
  },
  {
   "cell_type": "markdown",
   "id": "a0ade06a",
   "metadata": {},
   "source": [
    "Uh oh! Our first-order equations depend on the second moment $\\langle n_1(t) n_2(t)\\rangle$. As discussed above, this is where [moment closure](https://en.wikipedia.org/wiki/Moment_closure) comes in to save the day! We need to make some educated guess or assumptions in order to approximate the higher unknown moment $\\langle n_1(t) n_2(t)\\rangle$ using the lower known moments $\\langle n_1(t) \\rangle$ and $\\langle n_2(t)\\rangle$. We could attempt to be fancy and guess the form of potential correlations between the predator and prey populations... or we can simply assume that they are independent.\n",
    "\n",
    "Assuming independence of populations, we would get $\\langle n_1(t) n_2(t)\\rangle = \\langle n_1(t) \\rangle \\langle n_2(t) \\rangle$. Leading to the following close system of equations for the first moments of the Lotka-Volterra model:"
   ]
  },
  {
   "cell_type": "markdown",
   "id": "75d8ca57",
   "metadata": {},
   "source": [
    "$$\n",
    "\\begin{align}\n",
    "\\frac{d}{dt}\\langle n_1(t) \\rangle & = \\alpha \\langle n_1(t) \\rangle - \\beta \\langle n_1(t)\\rangle \\langle  n_2(t)\\rangle \\\\\n",
    "\\frac{d}{dt}\\langle n_2(t) \\rangle & = \\beta \\langle n_1(t)\\rangle \\langle n_2(t)\\rangle - \\gamma \\beta \\langle n_2(t)\\rangle\n",
    "\\end{align}\n",
    "$$"
   ]
  },
  {
   "cell_type": "markdown",
   "id": "07c75ebb",
   "metadata": {},
   "source": [
    "Again, MoM's recipe leads to a classic model which could have been derived using a classic compartmental approach. However, the method of moments can also be used to generate a counter-intuitive 5-dimensional system for the first five moments of the Lotka-Volterra model. How else could one track the variance in a complex systems like that? MoM's magic!"
   ]
  }
 ],
 "metadata": {
  "kernelspec": {
   "display_name": "Python 3 (ipykernel)",
   "language": "python",
   "name": "python3"
  },
  "language_info": {
   "codemirror_mode": {
    "name": "ipython",
    "version": 3
   },
   "file_extension": ".py",
   "mimetype": "text/x-python",
   "name": "python",
   "nbconvert_exporter": "python",
   "pygments_lexer": "ipython3",
   "version": "3.9.12"
  }
 },
 "nbformat": 4,
 "nbformat_minor": 5
}
